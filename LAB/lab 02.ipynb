{
 "cells": [
  {
   "cell_type": "markdown",
   "metadata": {},
   "source": [
    "ALEX FILING THE NAMES OF THE PEOPLE IN THE VILLAGE"
   ]
  },
  {
   "cell_type": "code",
   "execution_count": 22,
   "metadata": {},
   "outputs": [],
   "source": [
    "l=[]  "
   ]
  },
  {
   "cell_type": "code",
   "execution_count": 24,
   "metadata": {},
   "outputs": [
    {
     "name": "stdout",
     "output_type": "stream",
     "text": [
      "name exists\n",
      "lily\n",
      "anita\n",
      "hira\n",
      "diya\n",
      "urmi\n",
      "trisha\n"
     ]
    }
   ],
   "source": [
    "\n",
    "def filenames():\n",
    "    while True:\n",
    "        namefile = input(\"Enter a name: \")\n",
    "    \n",
    "        if namefile == 'q':\n",
    "          for i in l:\n",
    "           print(i)\n",
    "          break\n",
    "        elif namefile in l:\n",
    "          print(\"name exists\")\n",
    "        else:\n",
    "          l.append(namefile)\n",
    "\n",
    "\n",
    "filenames()"
   ]
  }
 ],
 "metadata": {
  "kernelspec": {
   "display_name": "Python 3",
   "language": "python",
   "name": "python3"
  },
  "language_info": {
   "codemirror_mode": {
    "name": "ipython",
    "version": 3
   },
   "file_extension": ".py",
   "mimetype": "text/x-python",
   "name": "python",
   "nbconvert_exporter": "python",
   "pygments_lexer": "ipython3",
   "version": "3.11.4"
  },
  "orig_nbformat": 4
 },
 "nbformat": 4,
 "nbformat_minor": 2
}

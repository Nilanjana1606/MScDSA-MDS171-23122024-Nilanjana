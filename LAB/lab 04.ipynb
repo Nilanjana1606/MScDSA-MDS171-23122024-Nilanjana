{
 "cells": [
  {
   "cell_type": "markdown",
   "metadata": {},
   "source": [
    "A Taste of Success: The Restaurant Management System\n",
    "\n",
    "In the heart of the bustling city of Lavasa was a charming little restaurant named \"Culinary Delights.\" Owned by a passionate chef named Chef Amelia, Culinary Delights was renowned for its mouthwatering dishes, warm ambience, and exceptional customer service.\n",
    "\n",
    "Chef Amelia had always dreamed of running her restaurant since she was a child. Her love for cooking led her to culinary school, where she honed her skills and developed her signature recipes. With hard work and determination, she finally opened Culinary Delights, a cosy place where people could savour her culinary creations.\n",
    "\n",
    "As Culinary Delights gained popularity, it faced a significant challenge – managing orders efficiently. Chef Amelia realised that she needed a robust Restaurant Management System (RMS) to maintain the restaurant's reputation.\n",
    "\n",
    "Chef Amelia would like to hire you as a team lead for the talented software developers Mark, Sarah, and David she already has. Together, you will create an advanced RMS that will revolutionise Culinary Delights.\n",
    "\n",
    "The software Chef Amelia is looking for is straightforward and has to store the orders in a file the restaurant gets from its customers.\n",
    "\n",
    "As a data analyst specialist, gather insights from the orders that Your hotel Culinary Delights received from their customer over time and display it to Chef Amelia as she uses your Software Application."
   ]
  },
  {
   "cell_type": "code",
   "execution_count": 1,
   "metadata": {},
   "outputs": [
    {
     "ename": "ValueError",
     "evalue": "invalid literal for int() with base 10: 'lili'",
     "output_type": "error",
     "traceback": [
      "\u001b[1;31m---------------------------------------------------------------------------\u001b[0m",
      "\u001b[1;31mValueError\u001b[0m                                Traceback (most recent call last)",
      "Cell \u001b[1;32mIn[1], line 17\u001b[0m\n\u001b[0;32m     15\u001b[0m date \u001b[39m=\u001b[39m \u001b[39minput\u001b[39m(\u001b[39m\"\u001b[39m\u001b[39mEnter the date: \u001b[39m\u001b[39m\"\u001b[39m)\n\u001b[0;32m     16\u001b[0m item \u001b[39m=\u001b[39m \u001b[39minput\u001b[39m(\u001b[39m\"\u001b[39m\u001b[39mEnter the item here: \u001b[39m\u001b[39m\"\u001b[39m)\n\u001b[1;32m---> 17\u001b[0m init_rate \u001b[39m=\u001b[39m \u001b[39mint\u001b[39;49m(\u001b[39minput\u001b[39;49m(\u001b[39m\"\u001b[39;49m\u001b[39mEnter the rate of the item: \u001b[39;49m\u001b[39m\"\u001b[39;49m))\n\u001b[0;32m     18\u001b[0m qty \u001b[39m=\u001b[39m \u001b[39mint\u001b[39m(\u001b[39minput\u001b[39m(\u001b[39m\"\u001b[39m\u001b[39mEnter the quantity of the item\u001b[39m\u001b[39m\"\u001b[39m))\n\u001b[0;32m     19\u001b[0m custcount \u001b[39m=\u001b[39m \u001b[39minput\u001b[39m(\u001b[39m\"\u001b[39m\u001b[39mEnter the Guest Count: \u001b[39m\u001b[39m\"\u001b[39m)\n",
      "\u001b[1;31mValueError\u001b[0m: invalid literal for int() with base 10: 'lili'"
     ]
    }
   ],
   "source": [
    "\n",
    "def RMS(name , date , item , rate , qty , custcount):\n",
    "    file = open(\"RMS.txt\", \"w+\")\n",
    "    file.write(\"\\nName = \"+name)\n",
    "    file.write(\"\\nDate = \"+date)\n",
    "    file.write(\"\\nItem Code = \"+item)\n",
    "    file.write(\"\\nQuantity = \"+str(qty))\n",
    "    file.write(\"\\nRate = \"+str(rate))\n",
    "    file.write(\"\\nGuestCount = \"+guestcount)\n",
    "    file.write(\"\\n-----------------------------------------------------------------------------------------------------------\")\n",
    "    file.close()\n",
    "    return True\n",
    "\n",
    "\n",
    "name = input(\"Enter the Name here: \")\n",
    "date = input(\"Enter the date: \")\n",
    "item = input(\"Enter the item here: \")\n",
    "init_rate = int(input(\"Enter the rate of the item: \"))\n",
    "qty = int(input(\"Enter the quantity of the item\"))\n",
    "custcount = input(\"Enter the Guest Count: \")\n",
    "rate=init_rate*qty\n",
    "RMS(name , date , item , rate , qty , guestcount)\n",
    "\n",
    "\n",
    "\n",
    "#analysis\n",
    "salescount = 0\n",
    "with open(\"RMS.txt\" , \"r+\") as file :\n",
    "    for line in file:\n",
    "        if \"Rate\" in line:\n",
    "            \n",
    "            Rate = int(line.split(\"=\")[1].strip())\n",
    "            salescount += Rate\n",
    "print(\"The total amount obtained in this day = \" , salescount)\n",
    "    # print(\"The total amount of guests per day: \" , salescount)\n",
    "\n",
    "\n",
    "\n",
    "\n",
    "#analysis\n",
    "salescount = 0\n",
    "with open(\"RMS.txt\" , \"r+\") as file :\n",
    "    for line in file:\n",
    "        if \"GuestCount\" in line:\n",
    "            \n",
    "            Rate = int(line.split(\"=\")[1].strip())\n",
    "            salescount += Rate\n",
    "print(\"The total Guest obtained in this day = \" , salescount)\n",
    "    # print(\"The total amount of guests per day: \" , salescount)\n",
    "     \n",
    "   \n",
    "\n",
    "\n",
    "\n",
    "\n",
    "\n",
    "\n",
    "\n"
   ]
  }
 ],
 "metadata": {
  "kernelspec": {
   "display_name": "Python 3",
   "language": "python",
   "name": "python3"
  },
  "language_info": {
   "codemirror_mode": {
    "name": "ipython",
    "version": 3
   },
   "file_extension": ".py",
   "mimetype": "text/x-python",
   "name": "python",
   "nbconvert_exporter": "python",
   "pygments_lexer": "ipython3",
   "version": "3.11.4"
  },
  "orig_nbformat": 4
 },
 "nbformat": 4,
 "nbformat_minor": 2
}

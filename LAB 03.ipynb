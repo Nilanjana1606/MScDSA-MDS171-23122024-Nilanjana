{
 "cells": [
  {
   "cell_type": "markdown",
   "metadata": {},
   "source": [
    "In the serene village of Arithmetica, numbers were not just symbols; they were living entities that coexisted in perfect harmony. Each number had a distinct personality, contributing to the village's balance and order. But occasionally, the numbers would come together for a special event called the Harmony Gathering. During the harmony gathering, the event starts with identifying their Five Point Summary or Descriptive Statistics. \n",
    "\n",
    "For the given set of numbers who arrived for the Harmony Gathering today, can you help the people in Arithmetica find their descriptive statistics?\n",
    "\n",
    "[761, 123, 585, 275, 194, 840, 999, 622, 763, 40, 825, 687, 402, 338, 611, 987, 739, 95, 819, 568, 320, 126, 688, 948, 514, 223, 751, 379, 857, 767, 492, 162, 437, 934, 430, 343, 725, 511, 580, 678, 708, 823, 346, 179, 786, 663, 195, 890, 267, 502, 214, 300, 786, 961, 235, 559, 992, 919, 948, 318, 57, 787, 653, 317, 305, 172, 966, 182, 970, 17, 89, 624, 629, 595, 485, 752, 984, 978, 460, 124, 321, 256, 614, 852, 811, 561, 127, 207, 406, 615, 888, 391, 691, 470, 911, 401, 137, 600, 478, 682]\n",
    "\n",
    "The values that Arithmetica is looking at are:\n",
    "\n",
    "Mean\n",
    "Minimum\n",
    "Maximum\n",
    "Range\n",
    "\n",
    "ARITHMETICA WORLD USING FUNCTIONS\n"
   ]
  },
  {
   "cell_type": "code",
   "execution_count": 2,
   "metadata": {},
   "outputs": [
    {
     "name": "stdout",
     "output_type": "stream",
     "text": [
      "542.94\n",
      "the maximum no. is 999\n",
      "the minimum no. is 17\n",
      "the range is 982\n"
     ]
    }
   ],
   "source": [
    "\n",
    "def arithmetica(l):\n",
    "    sum=0\n",
    "    max=0\n",
    "    min=0\n",
    "    range=0\n",
    "    c=0\n",
    "    for i in l:\n",
    "        sum=sum+i\n",
    "        c=c+1\n",
    "    mean=sum/c\n",
    "    print(mean)\n",
    "    max = l[0]\n",
    "    for k in l:\n",
    "        if max<k:\n",
    "            max = k \n",
    "    print(\"the maximum no. is\", max)\n",
    "    \n",
    "    min = l[0]\n",
    "    for k in l:\n",
    "        if k<min:\n",
    "            min = k \n",
    "    \n",
    "    print(\"the minimum no. is\", min)\n",
    "    range=max-min\n",
    "    print(\"the range is\", range)\n",
    "\n",
    "l=[761, 123, 585, 275, 194, 840, 999, 622, 763, 40, 825, 687, 402, 338, 611, 987, 739, 95, 819, 568, 320, 126, 688, 948, 514, 223, 751, 379, 857, 767, 492, 162, 437, 934, 430, 343, 725, 511, 580, 678, 708, 823, 346, 179, 786, 663, 195, 890, 267, 502, 214, 300, 786, 961, 235, 559, 992, 919, 948, 318, 57, 787, 653, 317, 305, 172, 966, 182, 970, 17, 89, 624, 629, 595, 485, 752, 984, 978, 460, 124, 321, 256, 614, 852, 811, 561, 127, 207, 406, 615, 888, 391, 691, 470, 911, 401, 137, 600, 478, 682]\n",
    "\n",
    "arithmetica(l)\n",
    "\n",
    "\n"
   ]
  },
  {
   "cell_type": "markdown",
   "metadata": {},
   "source": [
    "CODE USING BUILT-IN FUNCTION"
   ]
  },
  {
   "cell_type": "code",
   "execution_count": 11,
   "metadata": {},
   "outputs": [
    {
     "name": "stdout",
     "output_type": "stream",
     "text": [
      "999\n",
      "17\n",
      "542.94\n",
      "982\n"
     ]
    }
   ],
   "source": [
    "NEWL= [761, 123, 585, 275, 194, 840, 999, 622, 763, 40, 825, 687, 402, 338, 611, 987, 739, 95, 819, 568, 320, 126, 688, 948, 514, 223, 751, 379, 857, 767, 492, 162, 437, 934, 430, 343, 725, 511, 580, 678, 708, 823, 346, 179, 786, 663, 195, 890, 267, 502, 214, 300, 786, 961, 235, 559, 992, 919, 948, 318, 57, 787, 653, 317, 305, 172, 966, 182, 970, 17, 89, 624, 629, 595, 485, 752, 984, 978, 460, 124, 321, 256, 614, 852, 811, 561, 127, 207, 406, 615, 888, 391, 691, 470, 911, 401, 137, 600, 478, 682]\n",
    "print(max(NEWL))\n",
    "print(min(NEWL))\n",
    "print(sum(NEWL)/len(NEWL))\n",
    "print(max(NEWL)-min(NEWL))"
   ]
  }
 ],
 "metadata": {
  "kernelspec": {
   "display_name": "Python 3",
   "language": "python",
   "name": "python3"
  },
  "language_info": {
   "codemirror_mode": {
    "name": "ipython",
    "version": 3
   },
   "file_extension": ".py",
   "mimetype": "text/x-python",
   "name": "python",
   "nbconvert_exporter": "python",
   "pygments_lexer": "ipython3",
   "version": "3.11.4"
  },
  "orig_nbformat": 4
 },
 "nbformat": 4,
 "nbformat_minor": 2
}

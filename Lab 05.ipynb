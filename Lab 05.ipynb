{
 "cells": [
  {
   "cell_type": "markdown",
   "metadata": {},
   "source": [
    "Mix & Match Calculator\n",
    "\n",
    "Create Lists for [Item, Quantity, Price] with 10 random values of your choice.\n",
    "The item list can be of any category of your choice [Food Items, Grocery Items,...] or anything you choose that can be bought.\n",
    "\n",
    "Prepare a CSV file with combinations of these values with the help of random index & looping statements and other control structures we discussed in class.\n",
    "\n",
    "To get a random index or number to access items from the list, you can use the following:\n",
    "random is a library in Python that can be used to generate random numbers.\n",
    "\n",
    "import random # Importing the external library\n",
    "r1 = random.randint(0, 10) # Generating the random number from the range and store it in r1 variable\n",
    "\n",
    "More details of the Random library usage can be found here.\n",
    "\n",
    "Your CSV file should have a minimum of 100 rows created randomly with the data in the list and the random library.\n",
    "Each row in the CSV file will have (item, Quantity, and UnitPrice).\n",
    "\n",
    "After preparing the CSV with Python code, you need to compute\n",
    "The total cost for each row, display the result from the first 5 rows and the last 10 rows\n",
    "Calculate the total cost for each unique item in the dataset.\n",
    "Item Name | Total Quantity | Total\n",
    "Print the minimum & maximum price for each item sold"
   ]
  },
  {
   "cell_type": "code",
   "execution_count": 4,
   "metadata": {},
   "outputs": [],
   "source": [
    "ITEM=[\"RICE\",\"CHICKEN\",\"MUTTON\",\"COFFEE\",\"PIZZA\",\"BURGER\",\"BISCUIT\",\"BREAD\",\"EGGS\",\"PULSES\"]\n",
    "QUANTITY=[1,1,1,2,1,2,4,2,7,1]\n",
    "PRICE=[60,250,700,80,200,60,30,20,6,40]"
   ]
  },
  {
   "cell_type": "code",
   "execution_count": 17,
   "metadata": {},
   "outputs": [
    {
     "ename": "TypeError",
     "evalue": "'int' object is not iterable",
     "output_type": "error",
     "traceback": [
      "\u001b[1;31m---------------------------------------------------------------------------\u001b[0m",
      "\u001b[1;31mTypeError\u001b[0m                                 Traceback (most recent call last)",
      "Cell \u001b[1;32mIn[17], line 9\u001b[0m\n\u001b[0;32m      7\u001b[0m k\u001b[39m=\u001b[39mrandom\u001b[39m.\u001b[39mrandint(\u001b[39m0\u001b[39m,\u001b[39m10\u001b[39m)\n\u001b[0;32m      8\u001b[0m f\u001b[39m.\u001b[39mwritelines(ITEM[k])\n\u001b[1;32m----> 9\u001b[0m f\u001b[39m.\u001b[39;49mwritelines(QUANTITY[k])\n\u001b[0;32m     10\u001b[0m f\u001b[39m.\u001b[39mwritelines(PRICE[k])\n",
      "\u001b[1;31mTypeError\u001b[0m: 'int' object is not iterable"
     ]
    }
   ],
   "source": [
    "\n",
    "import random\n",
    "\n",
    "f = open(\"Nilanjana_23122024.txt\", \"w\")\n",
    "    \n",
    "L=[\"ITEM\\t\",\"QUANTITY\\t\",\"PRICE\\t\"]\n",
    "f.writelines(L)\n",
    "k=random.randint(0,10)\n",
    "f.writelines(ITEM[k])\n",
    "f.writelines(QUANTITY[k])\n",
    "f.writelines(PRICE[k])\n",
    "\n",
    "\n"
   ]
  }
 ],
 "metadata": {
  "kernelspec": {
   "display_name": "Python 3",
   "language": "python",
   "name": "python3"
  },
  "language_info": {
   "codemirror_mode": {
    "name": "ipython",
    "version": 3
   },
   "file_extension": ".py",
   "mimetype": "text/x-python",
   "name": "python",
   "nbconvert_exporter": "python",
   "pygments_lexer": "ipython3",
   "version": "3.11.4"
  },
  "orig_nbformat": 4
 },
 "nbformat": 4,
 "nbformat_minor": 2
}

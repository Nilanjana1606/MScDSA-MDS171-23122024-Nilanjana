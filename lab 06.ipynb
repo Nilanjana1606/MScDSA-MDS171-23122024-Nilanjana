{
 "cells": [
  {
   "cell_type": "markdown",
   "metadata": {},
   "source": [
    "Lab 06\n",
    "Vowel Counter!\n",
    "\n",
    "Write a program for collecting a string from the user and counting the number of vowels.\n",
    "\n",
    "Print the total count of vowels\n",
    "Print each vowel and its count\n",
    "Calculate the percentage of vowels in the given string\n",
    "Make use of functions and format your output accordingly\n"
   ]
  },
  {
   "cell_type": "code",
   "execution_count": 8,
   "metadata": {},
   "outputs": [
    {
     "name": "stdout",
     "output_type": "stream",
     "text": [
      "The string taken as input is:  He is NOt Better THan Me  and after converting it to lower case we get- he is not better than me\n",
      "7\n",
      "a appears  1 times\n",
      "e appears  4 times\n",
      "i appears  1 times\n",
      "o appears  1 times\n",
      "u appears  0 times\n",
      "percentage of vowels inside the string is  29.166666666666668 %\n"
     ]
    }
   ],
   "source": [
    "#first we have to input a random string\n",
    "r=input()\n",
    "\n",
    "#we are converting the uppercase to lower case for convinience\n",
    "k=r.lower()\n",
    "print(\"The string taken as input is: \",r,\" and after converting it to lower case we get-\",k)\n",
    "#variables are initialized to 0\n",
    "a=e=i=o=u=j=0\n",
    "#for loop is used to pick every character from the string taken as input to check whether its a vowel\n",
    "for j in k:\n",
    "    # we provide 5 conditions using if and elif statements to check for the existence of any of the 5 vowles inside the string\n",
    "    if j==\"a\":\n",
    "        a=a+1\n",
    "    elif j==\"e\":\n",
    "        e=e+1\n",
    "    elif j==\"i\":\n",
    "        i=i+1\n",
    "    elif j==\"o\":\n",
    "        o=o+1\n",
    "    elif j==\"u\":\n",
    "        u=u+1\n",
    "\n",
    "#total no. of vowels are calculated and printed\n",
    "total=a+e+i+o+u\n",
    "print(total)\n",
    "\n",
    "#individual vowel count is also printed\n",
    "print(\"a appears \",a,\"times\")\n",
    "print(\"e appears \",e,\"times\")\n",
    "print(\"i appears \",i,\"times\")\n",
    "print(\"o appears \",o,\"times\")\n",
    "print(\"u appears \",u,\"times\")\n",
    "\n",
    "#percentage of vowels present in the string is calculated by using the following formula\n",
    "#the len function is used to calculate the no. of characters present in the string\n",
    "percent=(total/len(k))*100\n",
    "print(\"percentage of vowels inside the string is \",percent,\"%\")\n"
   ]
  }
 ],
 "metadata": {
  "kernelspec": {
   "display_name": "Python 3",
   "language": "python",
   "name": "python3"
  },
  "language_info": {
   "codemirror_mode": {
    "name": "ipython",
    "version": 3
   },
   "file_extension": ".py",
   "mimetype": "text/x-python",
   "name": "python",
   "nbconvert_exporter": "python",
   "pygments_lexer": "ipython3",
   "version": "3.11.4"
  },
  "orig_nbformat": 4
 },
 "nbformat": 4,
 "nbformat_minor": 2
}

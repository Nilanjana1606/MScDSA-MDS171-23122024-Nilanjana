{
 "cells": [
  {
   "cell_type": "markdown",
   "metadata": {},
   "source": [
    "PROGRAM ON CREATING 2D COORDINATES\n",
    "A USER CAN VIEW 2D COORDINATES AND FIND THE DISTANCE BETWEEN 2 COORDINATES\n",
    "\n"
   ]
  },
  {
   "cell_type": "code",
   "execution_count": 32,
   "metadata": {},
   "outputs": [],
   "source": [
    "class Point:\n",
    "    def __init__(self,x,y):\n",
    "        self.x_cod=x\n",
    "        self.y_cod=y\n",
    "    \n",
    "    def __str__(self):\n",
    "        return '<{},{}>'.format(self.x_cod,self.y_cod)\n",
    "    \n",
    "    def euclidean_distance(self,other):\n",
    "        return ((self.x_cod-other.x_cod)**2-(self.y_cod-other.y_cod)**2)**0.5\n",
    "\n",
    "    def distance_from_origin(self):\n",
    "        return self.euclidean_distance(Point(0,0))#creating new object here\n",
    "\n",
    "\n",
    "class Line:\n",
    "    def __init__(self,A,B,C):\n",
    "        self.A=A\n",
    "        self.B=B\n",
    "        self.C=C\n",
    "\n",
    "    def __str__(self):\n",
    "        return '{}x +{}y + {} = 0'.format(self.A,self.B,self.C)\n",
    "    \n",
    "    def point_on_line(line,point):\n",
    "        if line.A*point.x_cod+line.B*point.y_cod+line.C==0:\n",
    "            return \"lies on the line\"\n",
    "        else:\n",
    "            return \"does not lie on the line\"\n",
    "        \n",
    "    def shortest_distance(line,point):\n",
    "       return ((line.A*point.x_cod+ line.B*point.y_cod +line.C)/(line.A**2+line.B**2))\n",
    "    "
   ]
  },
  {
   "cell_type": "code",
   "execution_count": 33,
   "metadata": {},
   "outputs": [
    {
     "data": {
      "text/plain": [
       "4.5"
      ]
     },
     "execution_count": 33,
     "metadata": {},
     "output_type": "execute_result"
    }
   ],
   "source": [
    "l1=Line(1,1,-2)\n",
    "p1=Point(1,10)\n",
    "l1.shortest_distance(p1)\n"
   ]
  },
  {
   "cell_type": "code",
   "execution_count": 25,
   "metadata": {},
   "outputs": [
    {
     "name": "stdout",
     "output_type": "stream",
     "text": [
      "1x +1y + -2 = 0\n",
      "<1,1>\n"
     ]
    },
    {
     "data": {
      "text/plain": [
       "'lies on the line'"
      ]
     },
     "execution_count": 25,
     "metadata": {},
     "output_type": "execute_result"
    }
   ],
   "source": [
    "l1=Line(1,1,-2)\n",
    "p1=Point(1,1)\n",
    "print(l1)\n",
    "print(p1)\n",
    "l1.point_on_line(p1)"
   ]
  },
  {
   "cell_type": "code",
   "execution_count": 22,
   "metadata": {},
   "outputs": [
    {
     "name": "stdout",
     "output_type": "stream",
     "text": [
      "<4,5>\n",
      "<2,-1>\n",
      "(3.4638242249419736e-16+5.656854249492381j)\n",
      "(1.8369701987210297e-16+3j)\n",
      "3x +4y + 5 = 0\n"
     ]
    }
   ],
   "source": [
    "p1=Point(4,5)\n",
    "print(p1)\n",
    "p2=Point(2,-1)\n",
    "print(p2)\n",
    "print(p1.euclidean_distance(p2))\n",
    "print(p1.distance_from_origin())\n",
    "l1=Line(3,4,5)\n",
    "print(l1)"
   ]
  },
  {
   "cell_type": "markdown",
   "metadata": {},
   "source": [
    "HOW OBJECTS ACCESS ATTRIBUTES"
   ]
  },
  {
   "cell_type": "code",
   "execution_count": 34,
   "metadata": {},
   "outputs": [],
   "source": [
    "class Person:\n",
    "    def __init__(self,name_input,country_input):\n",
    "        self.name=name_input\n",
    "        self.country=country_input\n",
    "\n",
    "    def greet(self):\n",
    "        if self.country=='india':\n",
    "            print('Namaste',self.name)\n",
    "        else:\n",
    "            print('Hello',self.name)"
   ]
  },
  {
   "cell_type": "code",
   "execution_count": 35,
   "metadata": {},
   "outputs": [],
   "source": [
    "#how to access attributes\n",
    "p=Person('nitish','india')\n"
   ]
  },
  {
   "cell_type": "code",
   "execution_count": 36,
   "metadata": {},
   "outputs": [
    {
     "data": {
      "text/plain": [
       "'nitish'"
      ]
     },
     "execution_count": 36,
     "metadata": {},
     "output_type": "execute_result"
    }
   ],
   "source": [
    "p.name"
   ]
  },
  {
   "cell_type": "code",
   "execution_count": 37,
   "metadata": {},
   "outputs": [
    {
     "name": "stdout",
     "output_type": "stream",
     "text": [
      "Namaste nitish\n"
     ]
    }
   ],
   "source": [
    "#how to access methods\n",
    "p.greet()"
   ]
  },
  {
   "cell_type": "code",
   "execution_count": 38,
   "metadata": {},
   "outputs": [
    {
     "ename": "AttributeError",
     "evalue": "'Person' object has no attribute 'gender'",
     "output_type": "error",
     "traceback": [
      "\u001b[1;31m---------------------------------------------------------------------------\u001b[0m",
      "\u001b[1;31mAttributeError\u001b[0m                            Traceback (most recent call last)",
      "\u001b[1;32md:\\Telegram Desktop\\MScDSA-MDS171-23122024-Nilanjana\\OOP 2 (CAMPUS X).ipynb Cell 11\u001b[0m line \u001b[0;36m2\n\u001b[0;32m      <a href='vscode-notebook-cell:/d%3A/Telegram%20Desktop/MScDSA-MDS171-23122024-Nilanjana/OOP%202%20%28CAMPUS%20X%29.ipynb#X15sZmlsZQ%3D%3D?line=0'>1</a>\u001b[0m \u001b[39m#what if i try to access non-existent attributes\u001b[39;00m\n\u001b[1;32m----> <a href='vscode-notebook-cell:/d%3A/Telegram%20Desktop/MScDSA-MDS171-23122024-Nilanjana/OOP%202%20%28CAMPUS%20X%29.ipynb#X15sZmlsZQ%3D%3D?line=1'>2</a>\u001b[0m p\u001b[39m.\u001b[39;49mgender\n",
      "\u001b[1;31mAttributeError\u001b[0m: 'Person' object has no attribute 'gender'"
     ]
    }
   ],
   "source": [
    "#what if i try to access non-existent attributes\n",
    "p.gender"
   ]
  },
  {
   "cell_type": "markdown",
   "metadata": {},
   "source": [
    "ATTRIBUTE CREATION OUTSIDE CLASS"
   ]
  },
  {
   "cell_type": "code",
   "execution_count": 40,
   "metadata": {},
   "outputs": [
    {
     "data": {
      "text/plain": [
       "'male'"
      ]
     },
     "execution_count": 40,
     "metadata": {},
     "output_type": "execute_result"
    }
   ],
   "source": [
    "p.gender='male'\n",
    "p.gender"
   ]
  },
  {
   "cell_type": "markdown",
   "metadata": {},
   "source": [
    "REFERENCE VARIABLES\n",
    "Reference variables hold the objects\n",
    "We can create objects without reference variable as well\n",
    "An object can have multiple reference variables\n",
    "Assigning a new reference variable to an existing object does not create a new object"
   ]
  },
  {
   "cell_type": "code",
   "execution_count": 3,
   "metadata": {},
   "outputs": [],
   "source": [
    "#object without a reference\n",
    "class Person:\n",
    "    def __init__(self):\n",
    "        self.name='nitish'\n",
    "        self.gender='male'\n",
    "\n",
    "Person()#trying to create object without storing it in a variable\n",
    "p=Person()# p is not the object, p contains the address of the object\n",
    "q=p\n",
    "\n",
    "#this is the reference variable\n"
   ]
  },
  {
   "cell_type": "code",
   "execution_count": 5,
   "metadata": {},
   "outputs": [
    {
     "name": "stdout",
     "output_type": "stream",
     "text": [
      "3093706356816\n",
      "3093706356816\n",
      "nitish\n",
      "nitish\n",
      "ankit\n",
      "ankit\n"
     ]
    }
   ],
   "source": [
    "#multiple ref\n",
    "print(id(p))\n",
    "print(id(q))\n",
    "#change attribute value with the help of 2nd object(VERY RISKY)\n",
    "print(p.name)\n",
    "print(q.name)\n",
    "q.name='ankit'\n",
    "print(q.name)\n",
    "print(p.name)"
   ]
  },
  {
   "cell_type": "markdown",
   "metadata": {},
   "source": [
    "PASS BY REFERENCE"
   ]
  },
  {
   "cell_type": "code",
   "execution_count": 8,
   "metadata": {},
   "outputs": [
    {
     "name": "stdout",
     "output_type": "stream",
     "text": [
      "hi my name is nitish and i am a  male\n",
      "3093706466832\n",
      "ankit\n",
      "male\n",
      "3093706466832\n"
     ]
    }
   ],
   "source": [
    "class Person:\n",
    "    def __init__(self,name,gender):\n",
    "        self.name=name\n",
    "        self.gender=gender\n",
    "#outside the class(function)\n",
    "def greet(person):\n",
    "    print(\"hi my name is\",person.name,\"and i am a \",person.gender)\n",
    "    print(id(person))\n",
    "    p1=Person('ankit','male')\n",
    "    return p1\n",
    "\n",
    "p=Person('nitish','male')\n",
    "x=greet(p)\n",
    "print(x.name)\n",
    "print(x.gender)\n",
    "print(id(p))#when we are trying to pass an object in a function we are only sending the address of the object"
   ]
  },
  {
   "cell_type": "markdown",
   "metadata": {},
   "source": [
    "OBJECT MUTABILITY"
   ]
  },
  {
   "cell_type": "code",
   "execution_count": 9,
   "metadata": {},
   "outputs": [
    {
     "name": "stdout",
     "output_type": "stream",
     "text": [
      "3093706569808\n",
      "hi my name is nitish and i am a  male\n",
      "3093706569808\n",
      "3093706567120\n"
     ]
    }
   ],
   "source": [
    "class Person:\n",
    "    def __init__(self,name,gender):\n",
    "        self.name=name\n",
    "        self.gender=gender\n",
    "\n",
    "    #outside the class->function\n",
    "    def greet(person):\n",
    "        person.name='ankit'\n",
    "        return person\n",
    "#all objects are mutable just like lists sets and dictionaries(after making changes the memory location doesnt change)\n",
    "p=Person('nitish','male')\n",
    "print(id(p))\n",
    "p1=greet(p)\n",
    "print(id(p1))"
   ]
  },
  {
   "cell_type": "markdown",
   "metadata": {},
   "source": [
    "ENCAPSULATION : two methods getter and setter"
   ]
  },
  {
   "cell_type": "code",
   "execution_count": 13,
   "metadata": {},
   "outputs": [],
   "source": [
    "#INSTANCE VARIABLE: a variable whose value is different for different objects\n",
    "\n",
    "class Person:\n",
    "    def __init__(self,name_input,country_input):\n",
    "        self.name=name_input\n",
    "        self.country=country_input\n",
    "\n",
    "p1=Person('nitish','india')\n",
    "\n",
    "p2=Person('steve','australia')\n",
    "    "
   ]
  },
  {
   "cell_type": "code",
   "execution_count": 17,
   "metadata": {},
   "outputs": [
    {
     "data": {
      "text/plain": [
       "'steve'"
      ]
     },
     "execution_count": 17,
     "metadata": {},
     "output_type": "execute_result"
    }
   ],
   "source": [
    "p1.name\n",
    "p2.name#under the same variable different values are getting printed due to different objects"
   ]
  },
  {
   "cell_type": "code",
   "execution_count": 19,
   "metadata": {},
   "outputs": [],
   "source": [
    "class Atm:\n",
    "\n",
    "    #constructor(special function)-> superpower ->\n",
    "    def __init__(self):\n",
    "        print(id(self))\n",
    "        self.pin=''\n",
    "        self.__balance=0\n",
    "        #self.menu()\n",
    "\n",
    "    def get_balance(self):\n",
    "        return self.__balance\n",
    "    \n",
    "    def set_balance(self,new_value):\n",
    "        if type(new_value)==int:\n",
    "            self.__balance=new_value\n",
    "        else:\n",
    "            print(\"dont u dare change the code\")\n",
    "\n",
    "    def menu(self):\n",
    "        user_input=input(\"\"\"\n",
    "        Hi how can i help u?\n",
    "        1. Press 1 to create pin\n",
    "        2. Press 2 to change pin\n",
    "        3. Press 3 to check balance\n",
    "        4. Press 4 to withdraw\n",
    "        5. Anything else to exit\n",
    "        \"\"\")\n",
    "\n",
    "                         \n",
    "                         "
   ]
  },
  {
   "cell_type": "code",
   "execution_count": null,
   "metadata": {},
   "outputs": [],
   "source": [
    "obj=Atm()"
   ]
  },
  {
   "cell_type": "code",
   "execution_count": null,
   "metadata": {},
   "outputs": [],
   "source": [
    "obj.create_pin()#user puts pin and balance\n",
    "obj.balance='hehehe'#the value in the main program will change\n",
    "obj.withdraw()#code crashes\n",
    "#the problem here is someone is able to access the functions and change it internally which is very dangerous\n",
    "#here comes the concept of private attributes.....we have to put double underscore before the variables\n",
    "#still someone change change the value if he gets to know the name of the variable but error will not come\n",
    "#when u are making a var private then in memory its name gets cahnged....in memory...it becomes  _Atm__balance....our entire code will be based on this variable name\n",
    "#then also someone takes the new variable name created in the memory to change its value \n",
    "#IN PYHTON NOTHING IS COMPLETELY PRIVATE whereas in JAVA private keyword can make a variable inaccessible\n",
    "\n",
    "\n",
    "#Because Python is a programming language made for adults\n",
    "\n",
    "#what if i want to keep it private but i will give access\n",
    "\n",
    "#private means its value is not available outside class but its accesible inside\n",
    "#we create methods to make this happen...getter and setter\n",
    "#getter : show private value outside\n",
    "#setter : change private value from outside\n",
    "\n",
    "obj.get_balance()\n",
    "obj.set_balance(1000)\n",
    "obj.set_balance(\"hehehe\")#if someone does this then the coder can check inside the set_balance function whether new_value== int\n",
    "\n"
   ]
  },
  {
   "cell_type": "markdown",
   "metadata": {},
   "source": [
    "COLLECTION OF OBJECTS"
   ]
  },
  {
   "cell_type": "code",
   "execution_count": 20,
   "metadata": {},
   "outputs": [
    {
     "name": "stdout",
     "output_type": "stream",
     "text": [
      "nitish male\n",
      "ankit male\n",
      "ankita male\n"
     ]
    }
   ],
   "source": [
    "#list of objects\n",
    "class Person:\n",
    "\n",
    "    def __init__(self,name,gender):\n",
    "        self.name=name\n",
    "        self.gender=gender\n",
    "\n",
    "p1=Person('nitish','male')\n",
    "p2=Person('ankit','male')\n",
    "p3=Person('ankita','male')\n",
    "\n",
    "L=[p1,p2,p3]\n",
    "\n",
    "for i in L:\n",
    "    print(i.name,i.gender)\n"
   ]
  },
  {
   "cell_type": "code",
   "execution_count": 21,
   "metadata": {},
   "outputs": [
    {
     "name": "stdout",
     "output_type": "stream",
     "text": [
      "nitish\n",
      "ankit\n",
      "ankita\n"
     ]
    }
   ],
   "source": [
    "#dict of objects\n",
    "class Person:\n",
    "\n",
    "    def __init__(self,name,gender):\n",
    "        self.name=name\n",
    "        self.gender=gender\n",
    "\n",
    "p1=Person('nitish','male')\n",
    "p2=Person('ankit','male')\n",
    "p3=Person('ankita','male')\n",
    "\n",
    "d={'p1':p1,'p2':p2,'p3':p3}\n",
    "\n",
    "for i in d:\n",
    "    print(d[i].name)"
   ]
  },
  {
   "cell_type": "markdown",
   "metadata": {},
   "source": [
    "STATIC VARIABLES is a class's variable...value same for different objects\n",
    "instance variable is object's variable...value different for different objects\n",
    "self.var_name is instance var and class.var_name is static var"
   ]
  },
  {
   "cell_type": "code",
   "execution_count": 35,
   "metadata": {},
   "outputs": [],
   "source": [
    "#atm code \n",
    "#we need a unique id for each customer\n",
    "#name balance should be instance\n",
    "#ifsc code should be static\n",
    "class Atm:\n",
    "    \n",
    "    __counter=1\n",
    "\n",
    "    #constructor(special function)-> superpower ->\n",
    "    def __init__(self):\n",
    "        print(id(self))\n",
    "        #instance variables\n",
    "        self.pin=''\n",
    "        self.__balance=0\n",
    "        self.cid=Atm.counter\n",
    "        Atm.__counter=Atm.__counter+1\n",
    "        #self.menu()\n",
    "\n",
    "        \n",
    "    #STATIC METHODS....UTILITY FUNCTIONS THAT DOES NOT REQUIRE OBJECTS...ACCESS BY CLASS NAME\n",
    "\n",
    "    def get_counter():#we can avoid this self because we are not using this self\n",
    "        return Atm.__counter\n",
    "\n",
    "    def get_balance(self):\n",
    "        return self.__balance\n",
    "    \n",
    "    def set_balance(self,new_value):\n",
    "        if type(new_value)==int:\n",
    "            self.__balance=new_value\n",
    "        else:\n",
    "            print(\"dont u dare change the code\")\n",
    "\n",
    "    def menu(self):\n",
    "        user_input=input(\"\"\"\n",
    "        Hi how can i help u?\n",
    "        1. Press 1 to create pin\n",
    "        2. Press 2 to change pin\n",
    "        3. Press 3 to check balance\n",
    "        4. Press 4 to withdraw\n",
    "        5. Anything else to exit\n",
    "        \"\"\")\n"
   ]
  },
  {
   "cell_type": "code",
   "execution_count": 29,
   "metadata": {},
   "outputs": [
    {
     "name": "stdout",
     "output_type": "stream",
     "text": [
      "3093705512976\n",
      "3093705203600\n",
      "3093706455056\n"
     ]
    }
   ],
   "source": [
    "c1=Atm()\n",
    "c2=Atm()\n",
    "c3=Atm()"
   ]
  },
  {
   "cell_type": "code",
   "execution_count": 30,
   "metadata": {},
   "outputs": [
    {
     "data": {
      "text/plain": [
       "1"
      ]
     },
     "execution_count": 30,
     "metadata": {},
     "output_type": "execute_result"
    }
   ],
   "source": [
    "c1.cid#since cid value was initialized to 0 for every new object creation\n",
    "#using instance variable you cannot implement a counter"
   ]
  },
  {
   "cell_type": "code",
   "execution_count": 31,
   "metadata": {},
   "outputs": [
    {
     "data": {
      "text/plain": [
       "2"
      ]
     },
     "execution_count": 31,
     "metadata": {},
     "output_type": "execute_result"
    }
   ],
   "source": [
    "c2.cid"
   ]
  },
  {
   "cell_type": "code",
   "execution_count": 32,
   "metadata": {},
   "outputs": [
    {
     "data": {
      "text/plain": [
       "3"
      ]
     },
     "execution_count": 32,
     "metadata": {},
     "output_type": "execute_result"
    }
   ],
   "source": [
    "c3.cid"
   ]
  },
  {
   "cell_type": "code",
   "execution_count": 33,
   "metadata": {},
   "outputs": [
    {
     "data": {
      "text/plain": [
       "4"
      ]
     },
     "execution_count": 33,
     "metadata": {},
     "output_type": "execute_result"
    }
   ],
   "source": [
    "Atm.counter"
   ]
  },
  {
   "cell_type": "code",
   "execution_count": 37,
   "metadata": {},
   "outputs": [
    {
     "name": "stdout",
     "output_type": "stream",
     "text": [
      "3093712553488\n"
     ]
    },
    {
     "ename": "TypeError",
     "evalue": "Atm.get_counter() takes 0 positional arguments but 1 was given",
     "output_type": "error",
     "traceback": [
      "\u001b[1;31m---------------------------------------------------------------------------\u001b[0m",
      "\u001b[1;31mTypeError\u001b[0m                                 Traceback (most recent call last)",
      "\u001b[1;32md:\\Telegram Desktop\\MScDSA-MDS171-23122024-Nilanjana\\OOP 2 (CAMPUS X).ipynb Cell 37\u001b[0m line \u001b[0;36m4\n\u001b[0;32m      <a href='vscode-notebook-cell:/d%3A/Telegram%20Desktop/MScDSA-MDS171-23122024-Nilanjana/OOP%202%20%28CAMPUS%20X%29.ipynb#X53sZmlsZQ%3D%3D?line=1'>2</a>\u001b[0m Atm\u001b[39m.\u001b[39mcounter\u001b[39m=\u001b[39m\u001b[39m'\u001b[39m\u001b[39mhehehe\u001b[39m\u001b[39m'\u001b[39m\n\u001b[0;32m      <a href='vscode-notebook-cell:/d%3A/Telegram%20Desktop/MScDSA-MDS171-23122024-Nilanjana/OOP%202%20%28CAMPUS%20X%29.ipynb#X53sZmlsZQ%3D%3D?line=2'>3</a>\u001b[0m c1\u001b[39m=\u001b[39mAtm()\u001b[39m#error will come so make it private by the same process\u001b[39;00m\n\u001b[1;32m----> <a href='vscode-notebook-cell:/d%3A/Telegram%20Desktop/MScDSA-MDS171-23122024-Nilanjana/OOP%202%20%28CAMPUS%20X%29.ipynb#X53sZmlsZQ%3D%3D?line=3'>4</a>\u001b[0m c1\u001b[39m.\u001b[39;49mget_counter()\u001b[39m#error...\u001b[39;00m\n\u001b[0;32m      <a href='vscode-notebook-cell:/d%3A/Telegram%20Desktop/MScDSA-MDS171-23122024-Nilanjana/OOP%202%20%28CAMPUS%20X%29.ipynb#X53sZmlsZQ%3D%3D?line=4'>5</a>\u001b[0m Atm\u001b[39m.\u001b[39mget_counter()\n",
      "\u001b[1;31mTypeError\u001b[0m: Atm.get_counter() takes 0 positional arguments but 1 was given"
     ]
    }
   ],
   "source": [
    "#what if\n",
    "Atm.counter='hehehe'\n",
    "c1=Atm()#error will come so make it private by the same process\n",
    "c1.get_counter()#error...\n"
   ]
  },
  {
   "cell_type": "code",
   "execution_count": 38,
   "metadata": {},
   "outputs": [
    {
     "data": {
      "text/plain": [
       "3"
      ]
     },
     "execution_count": 38,
     "metadata": {},
     "output_type": "execute_result"
    }
   ],
   "source": [
    "Atm.get_counter()#these are class's methods"
   ]
  }
 ],
 "metadata": {
  "kernelspec": {
   "display_name": "Python 3",
   "language": "python",
   "name": "python3"
  },
  "language_info": {
   "codemirror_mode": {
    "name": "ipython",
    "version": 3
   },
   "file_extension": ".py",
   "mimetype": "text/x-python",
   "name": "python",
   "nbconvert_exporter": "python",
   "pygments_lexer": "ipython3",
   "version": "3.11.4"
  },
  "orig_nbformat": 4
 },
 "nbformat": 4,
 "nbformat_minor": 2
}

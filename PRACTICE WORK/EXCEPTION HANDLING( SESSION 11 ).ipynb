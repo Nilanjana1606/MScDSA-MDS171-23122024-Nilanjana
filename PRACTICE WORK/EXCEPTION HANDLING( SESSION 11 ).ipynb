{
 "cells": [
  {
   "cell_type": "markdown",
   "metadata": {},
   "source": [
    "There are 2 stages where error may happen in a program\n",
    "1) During compilation : Syntax error\n",
    "2) During execution : Exceptions\n",
    "\n",
    "SYNTAX ERROR\n",
    "something in the program is not written according to the program grammer\n",
    "error is raised by the interpreter/compiler\n",
    "u can solve it by rectifying the program\n",
    "\n",
    "EXAMPLES OF SYNTAX ERROR\n",
    "leaving symbols like colon,brackets\n",
    "misspelling a keyword\n",
    "incorrect indentation\n",
    "empty if/else/loops/class/functions\n",
    "\n",
    "IndexError\n",
    "The IndexError is thrown when trying to access an item at an invalid index\n",
    "\n",
    "ModuleNotFoundError\n",
    "this error is thrown when a module cannt be found\n",
    "import mtah\n",
    "\n",
    "Key error : happens in the dictionary\n",
    "\n",
    "TypeError : is thrown when an operation or function is applied to an object of an inappropriate type\n",
    "1+'a'\n",
    "\n",
    "\n",
    "ValueError\n",
    "when a function's argument is of inappropriate type\n",
    "int('a')\n",
    "\n",
    "NameError\n",
    "is thrown when an object could not be found\n",
    "\n",
    "AttributeError\n",
    "L=[1,2,3]\n",
    "L.upper()\n",
    "\n",
    "\n",
    "WHY IS IT IMPORTANT TO DO EXCEPTION HANDLING ?\n",
    "1) when error occurs the user experience becomes bad due to the long messages\n",
    "2) also very crucial information gets displayed \n",
    "\n",
    "EXCEPTIONS\n",
    "If things go wrong during the execution of the program(runtime). It generally happens when something unforseen has happened.\n",
    "Exceptions are raised by python runtime\n",
    "U have to take is on the fly\n",
    "\n",
    "eg: memory overflow\n",
    "    Divide by 0 - logical error\n",
    "    database error\n",
    "\n",
    "HOW TO HANDLE EXCEPTIONS ? -> TRY except block\n",
    "\n",
    "\n",
    "\n",
    "\n",
    "    \n",
    "\n",
    "\n",
    "\n",
    "\n",
    "\n",
    "\n",
    "\n",
    "\n",
    "\n",
    "\n",
    "\n"
   ]
  },
  {
   "cell_type": "code",
   "execution_count": 1,
   "metadata": {},
   "outputs": [
    {
     "name": "stdout",
     "output_type": "stream",
     "text": [
      "sorry file not found\n"
     ]
    }
   ],
   "source": [
    "#lets create a file\n",
    "with open('sample.txt','w') as f:\n",
    "    f.write('hello world')\n",
    "\n",
    "#try catch demo\n",
    "try: \n",
    "\n",
    "  with open('sample1.txt','r') as f:#file not found error\n",
    "    print(f.read())\n",
    "\n",
    "except:\n",
    "    print('sorry file not found')\n"
   ]
  },
  {
   "cell_type": "code",
   "execution_count": 15,
   "metadata": {},
   "outputs": [
    {
     "name": "stdout",
     "output_type": "stream",
     "text": [
      "hello world\n",
      "5\n",
      "2.5\n",
      "list index out of range\n"
     ]
    }
   ],
   "source": [
    "#catching specific exception\n",
    "try:\n",
    "    m=5\n",
    "    f=open('sample.txt','r')\n",
    "    print(f.read())\n",
    "    print(m)\n",
    "    print(5/2)\n",
    "    l=[1,2,3]\n",
    "    l[100]\n",
    "\n",
    "except FileNotFoundError:\n",
    "    print('file not found')\n",
    "\n",
    "except NameError:\n",
    "    print('variable not defined')\n",
    "\n",
    "except ZeroDivisionError:\n",
    "    print('cant divide by 0')\n",
    "\n",
    "except Exception as e:#if the user doesnt know the type of error that might occur then the error part will automatically come here\n",
    "    print(e)\n",
    "\n",
    "#all these error parts are required to make the user understand that where exactly he made the mistake\n",
    "#in gov websites there is only try again error which is very inconvinient for the users"
   ]
  },
  {
   "cell_type": "code",
   "execution_count": 17,
   "metadata": {},
   "outputs": [
    {
     "name": "stdout",
     "output_type": "stream",
     "text": [
      "file nai mili\n"
     ]
    }
   ],
   "source": [
    "#else\n",
    "try:#if there is any problem in the try part then the control will go except but if there is no problem in the try part then it will go in else\n",
    "\n",
    "   f=open('sample1.txt','r')\n",
    "\n",
    "except FileNotFoundError:\n",
    "   print('file nai mili')\n",
    "\n",
    "except Exception:\n",
    "   print('kuch to lafda hai')\n",
    "\n",
    "else:#we write this part when we know that this part of code will not show error\n",
    "   #if except gets triggered then else will not get triggered\n",
    "   print(f.read())\n"
   ]
  },
  {
   "cell_type": "code",
   "execution_count": 18,
   "metadata": {},
   "outputs": [
    {
     "name": "stdout",
     "output_type": "stream",
     "text": [
      "file nai mili\n",
      "ye toh print ho ga hi\n"
     ]
    }
   ],
   "source": [
    "#finally\n",
    "#else\n",
    "try:#if there is any problem in the try part then the control will go except but if there is no problem in the try part then it will go in else\n",
    "\n",
    "   f=open('sample1.txt','r')\n",
    "\n",
    "except FileNotFoundError:\n",
    "   print('file nai mili')\n",
    "\n",
    "except Exception:\n",
    "   print('kuch to lafda hai')\n",
    "\n",
    "else:\n",
    "   print(f.read())\n",
    "\n",
    "finally:\n",
    "   print(\"ye toh print ho ga hi\")\n",
    "\n",
    "#closing and cleaning whatever database bluetooth is open...finally is always triggered in any cases"
   ]
  },
  {
   "cell_type": "code",
   "execution_count": 20,
   "metadata": {},
   "outputs": [
    {
     "ename": "FileNotFoundError",
     "evalue": "just trying",
     "output_type": "error",
     "traceback": [
      "\u001b[1;31m---------------------------------------------------------------------------\u001b[0m",
      "\u001b[1;31mFileNotFoundError\u001b[0m                         Traceback (most recent call last)",
      "\u001b[1;32md:\\Telegram Desktop\\MScDSA-MDS171-23122024-Nilanjana\\EXCEPTION HANDLING( SESSION 11 ).ipynb Cell 6\u001b[0m line \u001b[0;36m7\n\u001b[0;32m      <a href='vscode-notebook-cell:/d%3A/Telegram%20Desktop/MScDSA-MDS171-23122024-Nilanjana/EXCEPTION%20HANDLING%28%20SESSION%2011%20%29.ipynb#W5sZmlsZQ%3D%3D?line=0'>1</a>\u001b[0m \u001b[39m# raise Exception\u001b[39;00m\n\u001b[0;32m      <a href='vscode-notebook-cell:/d%3A/Telegram%20Desktop/MScDSA-MDS171-23122024-Nilanjana/EXCEPTION%20HANDLING%28%20SESSION%2011%20%29.ipynb#W5sZmlsZQ%3D%3D?line=1'>2</a>\u001b[0m \u001b[39m#In Python programming exceptions are raised when errors occur at runtime.\u001b[39;00m\n\u001b[0;32m      <a href='vscode-notebook-cell:/d%3A/Telegram%20Desktop/MScDSA-MDS171-23122024-Nilanjana/EXCEPTION%20HANDLING%28%20SESSION%2011%20%29.ipynb#W5sZmlsZQ%3D%3D?line=2'>3</a>\u001b[0m \u001b[39m# we can also normally raise exceptions using the raise keyword\u001b[39;00m\n\u001b[0;32m      <a href='vscode-notebook-cell:/d%3A/Telegram%20Desktop/MScDSA-MDS171-23122024-Nilanjana/EXCEPTION%20HANDLING%28%20SESSION%2011%20%29.ipynb#W5sZmlsZQ%3D%3D?line=3'>4</a>\u001b[0m \u001b[39m#we can optionally pass values to the exception to clarify why that exception was raised \u001b[39;00m\n\u001b[1;32m----> <a href='vscode-notebook-cell:/d%3A/Telegram%20Desktop/MScDSA-MDS171-23122024-Nilanjana/EXCEPTION%20HANDLING%28%20SESSION%2011%20%29.ipynb#W5sZmlsZQ%3D%3D?line=6'>7</a>\u001b[0m \u001b[39mraise\u001b[39;00m \u001b[39mFileNotFoundError\u001b[39;00m(\u001b[39m'\u001b[39m\u001b[39mjust trying\u001b[39m\u001b[39m'\u001b[39m)\n",
      "\u001b[1;31mFileNotFoundError\u001b[0m: just trying"
     ]
    }
   ],
   "source": [
    "# raise Exception\n",
    "#In Python programming exceptions are raised when errors occur at runtime.\n",
    "# we can also normally raise exceptions using the raise keyword\n",
    "#we can optionally pass values to the exception to clarify why that exception was raised \n",
    "\n",
    "#in java we call this throw and except is known as catch, try is called try\n",
    "\n",
    "raise FileNotFoundError('just trying')#any kind of error u can raise\n"
   ]
  },
  {
   "cell_type": "code",
   "execution_count": null,
   "metadata": {},
   "outputs": [],
   "source": [
    "#exception is actually a class...when u raise something u make an object of the exception class\n",
    "class Bank:\n",
    "    def __init__(self,balance):\n",
    "        self.balance\n",
    "\n",
    "    def withdraw(self,amount):\n",
    "        if amount<0:\n",
    "            raise Exception('amount cannot be negative')\n",
    "        if self.balance<amount:\n",
    "            raise Exception(\"no money\")\n",
    "        self.balance=self.balance-amount\n",
    "\n",
    "obj=Bank(10000)\n",
    "try:\n",
    "\n",
    "   obj.withdraw(5000)\n",
    "\n",
    "except:"
   ]
  }
 ],
 "metadata": {
  "kernelspec": {
   "display_name": "Python 3",
   "language": "python",
   "name": "python3"
  },
  "language_info": {
   "codemirror_mode": {
    "name": "ipython",
    "version": 3
   },
   "file_extension": ".py",
   "mimetype": "text/x-python",
   "name": "python",
   "nbconvert_exporter": "python",
   "pygments_lexer": "ipython3",
   "version": "3.11.4"
  },
  "orig_nbformat": 4
 },
 "nbformat": 4,
 "nbformat_minor": 2
}
